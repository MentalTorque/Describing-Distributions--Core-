{
 "cells": [
  {
   "cell_type": "code",
   "execution_count": 1,
   "metadata": {},
   "outputs": [],
   "source": [
    "import pandas as pd\n",
    "import numpy as np\n",
    "import matplotlib.pyplot as plt\n",
    "import matplotlib as mpl\n",
    "import seaborn as sns"
   ]
  },
  {
   "cell_type": "code",
   "execution_count": 5,
   "metadata": {},
   "outputs": [
    {
     "data": {
      "text/html": [
       "<div>\n",
       "<style scoped>\n",
       "    .dataframe tbody tr th:only-of-type {\n",
       "        vertical-align: middle;\n",
       "    }\n",
       "\n",
       "    .dataframe tbody tr th {\n",
       "        vertical-align: top;\n",
       "    }\n",
       "\n",
       "    .dataframe thead th {\n",
       "        text-align: right;\n",
       "    }\n",
       "</style>\n",
       "<table border=\"1\" class=\"dataframe\">\n",
       "  <thead>\n",
       "    <tr style=\"text-align: right;\">\n",
       "      <th></th>\n",
       "      <th>State</th>\n",
       "      <th>Lat</th>\n",
       "      <th>Lng</th>\n",
       "      <th>Area</th>\n",
       "      <th>Children</th>\n",
       "      <th>Age</th>\n",
       "      <th>Income</th>\n",
       "      <th>Marital</th>\n",
       "      <th>Gender</th>\n",
       "      <th>ReAdmis</th>\n",
       "      <th>...</th>\n",
       "      <th>Hyperlipidemia</th>\n",
       "      <th>BackPain</th>\n",
       "      <th>Anxiety</th>\n",
       "      <th>Allergic_rhinitis</th>\n",
       "      <th>Reflux_esophagitis</th>\n",
       "      <th>Asthma</th>\n",
       "      <th>Services</th>\n",
       "      <th>Initial_days</th>\n",
       "      <th>TotalCharge</th>\n",
       "      <th>Additional_charges</th>\n",
       "    </tr>\n",
       "  </thead>\n",
       "  <tbody>\n",
       "    <tr>\n",
       "      <th>0</th>\n",
       "      <td>AL</td>\n",
       "      <td>34.34960</td>\n",
       "      <td>-86.72508</td>\n",
       "      <td>Suburban</td>\n",
       "      <td>1.0</td>\n",
       "      <td>53</td>\n",
       "      <td>86575.93</td>\n",
       "      <td>Divorced</td>\n",
       "      <td>Male</td>\n",
       "      <td>0</td>\n",
       "      <td>...</td>\n",
       "      <td>0.0</td>\n",
       "      <td>1.0</td>\n",
       "      <td>1.0</td>\n",
       "      <td>1.0</td>\n",
       "      <td>0</td>\n",
       "      <td>1</td>\n",
       "      <td>Blood Work</td>\n",
       "      <td>10.585770</td>\n",
       "      <td>3726.702860</td>\n",
       "      <td>17939.403420</td>\n",
       "    </tr>\n",
       "    <tr>\n",
       "      <th>1</th>\n",
       "      <td>FL</td>\n",
       "      <td>30.84513</td>\n",
       "      <td>-85.22907</td>\n",
       "      <td>Urban</td>\n",
       "      <td>3.0</td>\n",
       "      <td>51</td>\n",
       "      <td>46805.99</td>\n",
       "      <td>Married</td>\n",
       "      <td>Female</td>\n",
       "      <td>0</td>\n",
       "      <td>...</td>\n",
       "      <td>0.0</td>\n",
       "      <td>0.0</td>\n",
       "      <td>0.0</td>\n",
       "      <td>0.0</td>\n",
       "      <td>1</td>\n",
       "      <td>0</td>\n",
       "      <td>Intravenous</td>\n",
       "      <td>15.129562</td>\n",
       "      <td>4193.190458</td>\n",
       "      <td>17612.998120</td>\n",
       "    </tr>\n",
       "    <tr>\n",
       "      <th>2</th>\n",
       "      <td>SD</td>\n",
       "      <td>43.54321</td>\n",
       "      <td>-96.63772</td>\n",
       "      <td>Suburban</td>\n",
       "      <td>3.0</td>\n",
       "      <td>53</td>\n",
       "      <td>14370.14</td>\n",
       "      <td>Widowed</td>\n",
       "      <td>Female</td>\n",
       "      <td>0</td>\n",
       "      <td>...</td>\n",
       "      <td>0.0</td>\n",
       "      <td>0.0</td>\n",
       "      <td>0.0</td>\n",
       "      <td>0.0</td>\n",
       "      <td>0</td>\n",
       "      <td>0</td>\n",
       "      <td>Blood Work</td>\n",
       "      <td>4.772177</td>\n",
       "      <td>2434.234222</td>\n",
       "      <td>17505.192460</td>\n",
       "    </tr>\n",
       "    <tr>\n",
       "      <th>3</th>\n",
       "      <td>MN</td>\n",
       "      <td>43.89744</td>\n",
       "      <td>-93.51479</td>\n",
       "      <td>Suburban</td>\n",
       "      <td>0.0</td>\n",
       "      <td>78</td>\n",
       "      <td>39741.49</td>\n",
       "      <td>Married</td>\n",
       "      <td>Male</td>\n",
       "      <td>0</td>\n",
       "      <td>...</td>\n",
       "      <td>0.0</td>\n",
       "      <td>0.0</td>\n",
       "      <td>0.0</td>\n",
       "      <td>0.0</td>\n",
       "      <td>1</td>\n",
       "      <td>1</td>\n",
       "      <td>Blood Work</td>\n",
       "      <td>1.714879</td>\n",
       "      <td>2127.830423</td>\n",
       "      <td>12993.437350</td>\n",
       "    </tr>\n",
       "    <tr>\n",
       "      <th>4</th>\n",
       "      <td>VA</td>\n",
       "      <td>37.59894</td>\n",
       "      <td>-76.88958</td>\n",
       "      <td>Rural</td>\n",
       "      <td>1.0</td>\n",
       "      <td>22</td>\n",
       "      <td>1209.56</td>\n",
       "      <td>Widowed</td>\n",
       "      <td>Female</td>\n",
       "      <td>0</td>\n",
       "      <td>...</td>\n",
       "      <td>1.0</td>\n",
       "      <td>0.0</td>\n",
       "      <td>0.0</td>\n",
       "      <td>1.0</td>\n",
       "      <td>0</td>\n",
       "      <td>0</td>\n",
       "      <td>CT Scan</td>\n",
       "      <td>1.254807</td>\n",
       "      <td>2113.073274</td>\n",
       "      <td>3716.525786</td>\n",
       "    </tr>\n",
       "  </tbody>\n",
       "</table>\n",
       "<p>5 rows × 32 columns</p>\n",
       "</div>"
      ],
      "text/plain": [
       "  State       Lat       Lng      Area  Children  Age    Income   Marital  \\\n",
       "0    AL  34.34960 -86.72508  Suburban       1.0   53  86575.93  Divorced   \n",
       "1    FL  30.84513 -85.22907     Urban       3.0   51  46805.99   Married   \n",
       "2    SD  43.54321 -96.63772  Suburban       3.0   53  14370.14   Widowed   \n",
       "3    MN  43.89744 -93.51479  Suburban       0.0   78  39741.49   Married   \n",
       "4    VA  37.59894 -76.88958     Rural       1.0   22   1209.56   Widowed   \n",
       "\n",
       "   Gender  ReAdmis  ...  Hyperlipidemia  BackPain  Anxiety  Allergic_rhinitis  \\\n",
       "0    Male        0  ...             0.0       1.0      1.0                1.0   \n",
       "1  Female        0  ...             0.0       0.0      0.0                0.0   \n",
       "2  Female        0  ...             0.0       0.0      0.0                0.0   \n",
       "3    Male        0  ...             0.0       0.0      0.0                0.0   \n",
       "4  Female        0  ...             1.0       0.0      0.0                1.0   \n",
       "\n",
       "   Reflux_esophagitis Asthma     Services  Initial_days  TotalCharge  \\\n",
       "0                   0      1   Blood Work     10.585770  3726.702860   \n",
       "1                   1      0  Intravenous     15.129562  4193.190458   \n",
       "2                   0      0   Blood Work      4.772177  2434.234222   \n",
       "3                   1      1   Blood Work      1.714879  2127.830423   \n",
       "4                   0      0      CT Scan      1.254807  2113.073274   \n",
       "\n",
       "   Additional_charges  \n",
       "0        17939.403420  \n",
       "1        17612.998120  \n",
       "2        17505.192460  \n",
       "3        12993.437350  \n",
       "4         3716.525786  \n",
       "\n",
       "[5 rows x 32 columns]"
      ]
     },
     "execution_count": 5,
     "metadata": {},
     "output_type": "execute_result"
    }
   ],
   "source": [
    "df=pd.read_csv('data (1).csv')\n",
    "df.head()"
   ]
  },
  {
   "cell_type": "markdown",
   "metadata": {},
   "source": [
    "Features to analyze:\n",
    "\n",
    "VitD_levels\n",
    "Doc_visits\n",
    "TotalCharge"
   ]
  },
  {
   "cell_type": "code",
   "execution_count": 42,
   "metadata": {},
   "outputs": [
    {
     "data": {
      "text/html": [
       "<div>\n",
       "<style scoped>\n",
       "    .dataframe tbody tr th:only-of-type {\n",
       "        vertical-align: middle;\n",
       "    }\n",
       "\n",
       "    .dataframe tbody tr th {\n",
       "        vertical-align: top;\n",
       "    }\n",
       "\n",
       "    .dataframe thead th {\n",
       "        text-align: right;\n",
       "    }\n",
       "</style>\n",
       "<table border=\"1\" class=\"dataframe\">\n",
       "  <thead>\n",
       "    <tr style=\"text-align: right;\">\n",
       "      <th></th>\n",
       "      <th>VitD_levels</th>\n",
       "      <th>Doc_visits</th>\n",
       "      <th>TotalCharge</th>\n",
       "    </tr>\n",
       "  </thead>\n",
       "  <tbody>\n",
       "    <tr>\n",
       "      <th>0</th>\n",
       "      <td>19.141466</td>\n",
       "      <td>6</td>\n",
       "      <td>3726.702860</td>\n",
       "    </tr>\n",
       "    <tr>\n",
       "      <th>1</th>\n",
       "      <td>18.940352</td>\n",
       "      <td>4</td>\n",
       "      <td>4193.190458</td>\n",
       "    </tr>\n",
       "    <tr>\n",
       "      <th>2</th>\n",
       "      <td>18.057507</td>\n",
       "      <td>4</td>\n",
       "      <td>2434.234222</td>\n",
       "    </tr>\n",
       "    <tr>\n",
       "      <th>3</th>\n",
       "      <td>16.576858</td>\n",
       "      <td>4</td>\n",
       "      <td>2127.830423</td>\n",
       "    </tr>\n",
       "    <tr>\n",
       "      <th>4</th>\n",
       "      <td>17.439069</td>\n",
       "      <td>5</td>\n",
       "      <td>2113.073274</td>\n",
       "    </tr>\n",
       "  </tbody>\n",
       "</table>\n",
       "</div>"
      ],
      "text/plain": [
       "   VitD_levels  Doc_visits  TotalCharge\n",
       "0    19.141466           6  3726.702860\n",
       "1    18.940352           4  4193.190458\n",
       "2    18.057507           4  2434.234222\n",
       "3    16.576858           4  2127.830423\n",
       "4    17.439069           5  2113.073274"
      ]
     },
     "execution_count": 42,
     "metadata": {},
     "output_type": "execute_result"
    }
   ],
   "source": [
    "df2 = df[['VitD_levels','Doc_visits','TotalCharge']]\n",
    "df2.head()"
   ]
  },
  {
   "cell_type": "code",
   "execution_count": 65,
   "metadata": {},
   "outputs": [
    {
     "data": {
      "text/plain": [
       "4.992"
      ]
     },
     "execution_count": 65,
     "metadata": {},
     "output_type": "execute_result"
    }
   ],
   "source": [
    "mean = df['Doc_visits'].mean()\n",
    "mean"
   ]
  },
  {
   "cell_type": "code",
   "execution_count": 66,
   "metadata": {},
   "outputs": [
    {
     "ename": "SyntaxError",
     "evalue": "invalid syntax (2986705369.py, line 5)",
     "output_type": "error",
     "traceback": [
      "\u001b[1;36m  File \u001b[1;32m\"C:\\Users\\tanma\\AppData\\Local\\Temp\\ipykernel_2776\\2986705369.py\"\u001b[1;36m, line \u001b[1;32m5\u001b[0m\n\u001b[1;33m    ax.set_title(f'{'f'Median'}')\u001b[0m\n\u001b[1;37m                              ^\u001b[0m\n\u001b[1;31mSyntaxError\u001b[0m\u001b[1;31m:\u001b[0m invalid syntax\n"
     ]
    }
   ],
   "source": [
    "fig,ax = plt.subplots(figsize=(10,6))\n",
    "sns.histplot(df['Doc_visits'], ax = ax, stat='density',kde=True)\n",
    "ax.axvline(mean, color = 'red')\n",
    "ax.axvline(median, ls='--', color = 'green', label = f'Median = {median:,.2f}')\n",
    "ax.set_title(f'{'f'Median'}')\n",
    "ax.legend();"
   ]
  },
  {
   "cell_type": "code",
   "execution_count": 41,
   "metadata": {},
   "outputs": [
    {
     "data": {
      "image/png": "[encoded data removed]",
      "text/plain": [
       "<Figure size 720x432 with 1 Axes>"
      ]
     },
     "metadata": {
      "needs_background": "light"
     },
     "output_type": "display_data"
    }
   ],
   "source": [
    "fig,ax = plt.subplots(figsize=(10,6))\n",
    "sns.histplot(df['Doc_visits'] ,ax=ax, stat='probability')\n",
    "ax.axvline(mean, color = 'red', label='Mean')\n",
    "ax.set_title('Doc visits')\n",
    "ax.legend();"
   ]
  },
  {
   "cell_type": "code",
   "execution_count": 25,
   "metadata": {},
   "outputs": [
    {
     "data": {
      "text/plain": [
       "2.9919958083381206"
      ]
     },
     "execution_count": 25,
     "metadata": {},
     "output_type": "execute_result"
    }
   ],
   "source": []
  }
 ],
 "metadata": {
  "kernelspec": {
   "display_name": "Python 3.7.12 ('dojo-env')",
   "language": "python",
   "name": "python3"
  },
  "language_info": {
   "codemirror_mode": {
    "name": "ipython",
    "version": 3
   },
   "file_extension": ".py",
   "mimetype": "text/x-python",
   "name": "python",
   "nbconvert_exporter": "python",
   "pygments_lexer": "ipython3",
   "version": "3.7.12"
  },
  "orig_nbformat": 4,
  "vscode": {
   "interpreter": {
    "hash": "52c2635f6607ff696028d1a1b927722df32ca328ce3761e05fb9ef682faf1a8c"
   }
  }
 },
 "nbformat": 4,
 "nbformat_minor": 2
}
